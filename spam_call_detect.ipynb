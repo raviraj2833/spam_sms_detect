{
  "nbformat": 4,
  "nbformat_minor": 0,
  "metadata": {
    "colab": {
      "provenance": [],
      "authorship_tag": "ABX9TyN9NU9hIepclBWLwUkb0cSS",
      "include_colab_link": true
    },
    "kernelspec": {
      "name": "python3",
      "display_name": "Python 3"
    },
    "language_info": {
      "name": "python"
    }
  },
  "cells": [
    {
      "cell_type": "markdown",
      "metadata": {
        "id": "view-in-github",
        "colab_type": "text"
      },
      "source": [
        "<a href=\"https://colab.research.google.com/github/raviraj2833/spam_call_detect/blob/main/spam_call_detect.ipynb\" target=\"_parent\"><img src=\"https://colab.research.google.com/assets/colab-badge.svg\" alt=\"Open In Colab\"/></a>"
      ]
    },
    {
      "cell_type": "code",
      "execution_count": 12,
      "metadata": {
        "colab": {
          "base_uri": "https://localhost:8080/"
        },
        "id": "i7qxSFu2tc94",
        "outputId": "d4cd9124-9950-4405-f1fe-4879a7698f7e"
      },
      "outputs": [
        {
          "output_type": "stream",
          "name": "stdout",
          "text": [
            "\n",
            "Model Accuracy: 0.98\n",
            "\n",
            "🔍 Sample Predictions:\n",
            "                                                text label Predicted\n",
            "0  Go until jurong point, crazy.. Available only ...   ham       ham\n",
            "1                      Ok lar... Joking wif u oni...   ham       ham\n",
            "2  Free entry in 2 a wkly comp to win FA Cup fina...  spam      spam\n",
            "3  U dun say so early hor... U c already then say...   ham       ham\n",
            "4  Nah I don't think he goes to usf, he lives aro...   ham       ham\n",
            "5  FreeMsg Hey there darling it's been 3 week's n...  spam      spam\n",
            "6  Even my brother is not like to speak with me. ...   ham       ham\n",
            "7  As per your request 'Melle Melle (Oru Minnamin...   ham       ham\n",
            "8  WINNER!! As a valued network customer you have...  spam      spam\n",
            "9  Had your mobile 11 months or more? U R entitle...  spam      spam\n",
            "\n",
            "❌ Incorrect Predictions:\n",
            "     label                                               text Predicted\n",
            "751   spam  You have an important customer service announc...       ham\n",
            "1268  spam  Can U get 2 phone NOW? I wanna chat 2 set up m...       ham\n",
            "1448  spam  As a registered optin subscriber ur draw 4 å£1...       ham\n",
            "1612  spam  RT-KIng Pro Video Club>> Need help? info@ringt...       ham\n",
            "1892  spam  CALL 09090900040 & LISTEN TO EXTREME DIRTY LIV...       ham\n"
          ]
        }
      ],
      "source": [
        "import pandas as pd\n",
        "from sklearn.model_selection import train_test_split\n",
        "from sklearn.feature_extraction.text import CountVectorizer\n",
        "from sklearn.tree import DecisionTreeClassifier\n",
        "from sklearn.metrics import accuracy_score\n",
        "\n",
        "df = pd.read_csv('spam.csv', encoding='latin1')\n",
        "df = df[['v1', 'v2']]\n",
        "df.columns = ['label', 'text']\n",
        "\n",
        "vectorizer = CountVectorizer()\n",
        "X = vectorizer.fit_transform(df['text'])\n",
        "y = df['label']\n",
        "\n",
        "\n",
        "X_train, X_test, y_train, y_test = train_test_split(X, y, test_size=0.2, random_state=42)\n",
        "\n",
        "\n",
        "clf = DecisionTreeClassifier()\n",
        "clf.fit(X_train, y_train)\n",
        "\n",
        "\n",
        "y_pred = clf.predict(X_test)\n",
        "accuracy = accuracy_score(y_test, y_pred)\n",
        "print(f\"\\nModel Accuracy: {accuracy:.2f}\\n\")\n",
        "\n",
        "\n",
        "df['Predicted'] = clf.predict(vectorizer.transform(df['text']))\n",
        "\n",
        "\n",
        "print(\"🔍 Sample Predictions:\")\n",
        "print(df[['text', 'label', 'Predicted']].head(10))\n",
        "\n",
        "\n",
        "print(\"\\n❌ Incorrect Predictions:\")\n",
        "print(df[df['label'] != df['Predicted']].head())\n"
      ]
    },
    {
      "cell_type": "code",
      "source": [],
      "metadata": {
        "id": "3qOy_JuQzZIO"
      },
      "execution_count": null,
      "outputs": []
    },
    {
      "cell_type": "markdown",
      "source": [],
      "metadata": {
        "id": "Ja-TraQKy6-M"
      }
    }
  ]
}